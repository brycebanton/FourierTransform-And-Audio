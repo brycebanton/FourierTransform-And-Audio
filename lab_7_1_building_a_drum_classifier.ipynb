{
 "cells": [
  {
   "cell_type": "markdown",
   "metadata": {},
   "source": [
    "# Lab 7.1 - Building a classifier\n",
    "\n",
    "In this lab, you will download a set of free drum sounds available from [https://www.mediafire.com/file/7q81baqf23ybz7x/dubstep_empire_drum_kit.zip/file](https://www.mediafire.com/file/7q81baqf23ybz7x/dubstep_empire_drum_kit.zip/file) and build a classifier."
   ]
  },
  {
   "cell_type": "markdown",
   "metadata": {},
   "source": [
    "#### Problem 1 - Download and extract the drums sounds from the link provided above."
   ]
  },
  {
   "cell_type": "code",
   "execution_count": null,
   "metadata": {},
   "outputs": [],
   "source": [
    "kick_signals = [\n",
    "    librosa.load(p)[0] for p in Path().glob('audio/drum_samples/train/kick_*.wav')\n",
    "]\n",
    "snare_signals = [\n",
    "    librosa.load(p)[0] for p in Path().glob('audio/drum_samples/train/snare_*.wav')\n",
    "]"
   ]
  },
  {
   "cell_type": "markdown",
   "metadata": {},
   "source": [
    "#### Problem 2 - Load the Snares and Kicks tracks and extract features.\n",
    "\n",
    "Be sure to extract at least four features, which might include [Energy and RMSE](https://musicinformationretrieval.com/energy.html), [Zero Crossing Rate](https://musicinformationretrieval.com/zcr.html) and/or any of the [spectral features](https://musicinformationretrieval.com/spectral_features.html)"
   ]
  },
  {
   "cell_type": "markdown",
   "metadata": {},
   "source": []
  },
  {
   "cell_type": "markdown",
   "metadata": {},
   "source": [
    "#### Problem 3 - Make plots of the feature space\n",
    "\n",
    "Before building the classifier, you should make various plots of the feature space using [Seaborn pairplot](https://pythonbasics.org/seaborn-pairplot/)"
   ]
  },
  {
   "cell_type": "code",
   "execution_count": null,
   "metadata": {},
   "outputs": [],
   "source": []
  },
  {
   "cell_type": "markdown",
   "metadata": {},
   "source": [
    "#### Problem 4 - Train and Validate a Classifier\n",
    "\n",
    "You can use any classifier that you prefer, from logistic regression (as seen in STAT 310 and Lecture 7.3) or other classifiers that you might have learned about in DSCI 425."
   ]
  },
  {
   "cell_type": "code",
   "execution_count": null,
   "metadata": {},
   "outputs": [],
   "source": []
  }
 ],
 "metadata": {
  "kernelspec": {
   "display_name": "Python 3",
   "language": "python",
   "name": "python3"
  },
  "language_info": {
   "codemirror_mode": {
    "name": "ipython",
    "version": 3
   },
   "file_extension": ".py",
   "mimetype": "text/x-python",
   "name": "python",
   "nbconvert_exporter": "python",
   "pygments_lexer": "ipython3",
   "version": "3.7.6"
  }
 },
 "nbformat": 4,
 "nbformat_minor": 2
}
